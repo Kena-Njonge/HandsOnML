{
 "cells": [
  {
   "cell_type": "markdown",
   "id": "2c6f0c23",
   "metadata": {},
   "source": [
    "# Excursion\n",
    "\n",
    "This is an excourse, not really meant to be read again, just me trying out things while reading the book. It is readable, but will include way more of my thoughts in the code thatn usual.\n",
    "\n",
    "# Excourse on Linear Regression"
   ]
  },
  {
   "cell_type": "code",
   "execution_count": 2,
   "id": "17a13a73",
   "metadata": {},
   "outputs": [
    {
     "name": "stdout",
     "output_type": "stream",
     "text": [
      "[[1.         1.0773956  1.04388784]\n",
      " [1.         2.08585979 2.0697368 ]\n",
      " [1.         3.00941773 3.09756224]]\n"
     ]
    }
   ],
   "source": [
    "import numpy as np\n",
    "import matplotlib.pyplot as plt # type: ignore\n",
    "from matplotlib.figure import Figure # type: ignore\n",
    "from mpl_toolkits.mplot3d import Axes3D  # type: ignore\n",
    "from sklearn.preprocessing import add_dummy_feature\n",
    "from sklearn.metrics import mean_squared_error\n",
    "\n",
    "# Taken from the function x1 + x2=y\n",
    "X = np.array([[1,1],[2,2],[3,3]])\n",
    "y = np.array([[2], [4], [6]])\n",
    "\n",
    "# Intitialise rng \n",
    "rng  = np.random.default_rng(42)\n",
    "\n",
    "# Will throw error because of perfectly correlated data, let us add some random noise beforehand\n",
    "X_b = X + rng.random(size=(3,2))*0.1 \n",
    "X_b = add_dummy_feature(X_b)\n",
    "\n",
    "print(X_b)\n",
    "\n",
    "\n",
    "# So we used y = x1 + x2  to generate the data, let us see how close we get\n",
    "theta_best = np.linalg.inv(X_b.T @ X_b) @ X_b.T @ y"
   ]
  },
  {
   "cell_type": "code",
   "execution_count": 3,
   "id": "eba36e71",
   "metadata": {},
   "outputs": [
    {
     "name": "stdout",
     "output_type": "stream",
     "text": [
      "Theta/ Model Parameters[[-0.03744027]\n",
      " [ 0.04436818]\n",
      " [ 1.90598846]]\n",
      "Predictions:[[7.7639863 ]\n",
      " [9.71434294]]\n",
      "0.06865121101030064\n"
     ]
    }
   ],
   "source": [
    "# We would have hoped for one on both, but we basically get an equivalent feature by theta_2 being approx. 2\n",
    "# Error is due to the nois\n",
    "print(f\"Theta/ Model Parameters{theta_best}\")\n",
    "\n",
    "# Make predictions for 2 isntances\n",
    "X_samples_test = np.array([[4,4], [5,5]])\n",
    "y_test = np.array([[8],[10]])\n",
    "\n",
    "X_test = add_dummy_feature(X_samples_test)\n",
    "\n",
    "y_pred = X_test @ theta_best\n",
    "\n",
    "print(f\"Predictions:{y_pred}\")\n",
    "error = mean_squared_error(y_test,y_pred)\n",
    "print(error)\n"
   ]
  },
  {
   "cell_type": "markdown",
   "id": "791b4f1f",
   "metadata": {},
   "source": [
    "We can compute the feature weights (coefficients) and the bias (intercept) in the following way using sklearn and directly using the scipy function that the LinearRegression class is based on. Note that for the calculation of theta we use the pseudoinverse (Moore-Penrose) of X (see Hands on ML). This doesn't seem to be any less accurate, at least for our example, than the closed-form solution (Normal Equation).\n",
    "\n",
    "The pseudoinverse is always defined, which makes it work on singular matirces as well. The calculation of the pseudoinverse uses Singular Value Decomposition (see Hands on ML)"
   ]
  },
  {
   "cell_type": "code",
   "execution_count": null,
   "id": "3ba3264e",
   "metadata": {},
   "outputs": [
    {
     "name": "stdout",
     "output_type": "stream",
     "text": [
      "[[7.7639863 ]\n",
      " [9.71434294]]\n"
     ]
    }
   ],
   "source": [
    "# Doing it with sklearn\n",
    "from sklearn.linear_model import LinearRegression\n",
    "\n",
    "lin_mdl = LinearRegression()\n",
    "\n",
    "lin_mdl.fit(X_b,y)\n",
    "y_pred=lin_mdl.predict(X_test)\n",
    "for i in range(y_pred.shape[0]):\n",
    "\tprint(f\"Prediction {i}: {y_pred[i,0]:.2f}\")\n",
    "print(y_pred)\n",
    "# Equivalent terms\n",
    "bias, weights =  lin_mdl.intercept_,lin_mdl.coef_\n",
    "\n"
   ]
  },
  {
   "cell_type": "markdown",
   "id": "5504cd91",
   "metadata": {},
   "source": [
    "# Implement matric multiplication, small exercise   "
   ]
  },
  {
   "cell_type": "code",
   "execution_count": 18,
   "id": "e0bc0ef5",
   "metadata": {},
   "outputs": [
    {
     "name": "stdout",
     "output_type": "stream",
     "text": [
      "[[3. 3. 3.]\n",
      " [3. 3. 3.]\n",
      " [3. 3. 3.]]\n",
      "It failed :(....As expected hahaha <evil> :)\n",
      "[[3. 3.]\n",
      " [3. 3.]\n",
      " [3. 3.]]\n",
      "[[3. 3. 3.]\n",
      " [3. 3. 3.]]\n"
     ]
    }
   ],
   "source": [
    "def matrix_mult(A: np.ndarray,B: np.ndarray) -> np.ndarray:\n",
    "    if not (A.shape[1] == B.shape[0]):\n",
    "        raise ValueError(\"Incompatible Matrix Dimensions:{} {}\".format(A.shape,B.shape) )\n",
    "\n",
    "    C = np.zeros((A.shape[0],B.shape[1]))\n",
    "\n",
    "    for i in range(A.shape[0]):\n",
    "        for j in range(B.shape[1]):\n",
    "            C[i,j] = np.sum(A[i,:]*B[:,j])\n",
    "    \n",
    "    return C\n",
    "\n",
    "A = np.array([[1,1,1],[1,1,1],[1,1,1]])\n",
    "A_test = np.array([[1,1,1],[1,1,1]])\n",
    "B = np.array([[1,1,1],[1,1,1],[1,1,1]])\n",
    "B_false = np.array([[1,1,1],[1,1,1]])\n",
    "B_test = np.array([[1,1],[1,1],[1,1]])\n",
    "\n",
    "print(matrix_mult(A,B))\n",
    "try:\n",
    "    print(matrix_mult(A,B_false))\n",
    "except:\n",
    "    print('It failed :(....As expected hahaha <evil> :)')\n",
    "\n",
    "print(matrix_mult(A,B_test))\n",
    "print(matrix_mult(A_test,B))\n",
    "\n",
    "\n"
   ]
  }
 ],
 "metadata": {
  "kernelspec": {
   "display_name": "venv",
   "language": "python",
   "name": "python3"
  },
  "language_info": {
   "codemirror_mode": {
    "name": "ipython",
    "version": 3
   },
   "file_extension": ".py",
   "mimetype": "text/x-python",
   "name": "python",
   "nbconvert_exporter": "python",
   "pygments_lexer": "ipython3",
   "version": "3.12.0"
  }
 },
 "nbformat": 4,
 "nbformat_minor": 5
}
